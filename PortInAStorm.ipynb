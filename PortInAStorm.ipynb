{
 "cells": [
  {
   "cell_type": "code",
   "execution_count": 40,
   "metadata": {
    "collapsed": true,
    "deletable": true,
    "editable": true
   },
   "outputs": [],
   "source": [
    "# http://puzzlor.com/2017-02_PortInAStorm.html\n",
    "from pulp import *\n",
    "import numpy as np"
   ]
  },
  {
   "cell_type": "code",
   "execution_count": 41,
   "metadata": {
    "collapsed": true,
    "deletable": true,
    "editable": true
   },
   "outputs": [],
   "source": [
    "p = LpProblem('ports',LpMinimize)"
   ]
  },
  {
   "cell_type": "code",
   "execution_count": 42,
   "metadata": {
    "collapsed": true,
    "deletable": true,
    "editable": true
   },
   "outputs": [],
   "source": [
    "# here are the decision variables\n",
    "variables = []\n",
    "for i in range(1,21):\n",
    "    for j in range(1,4):\n",
    "        x = LpVariable('x{}{}'.format(i,j), 0, 1, LpBinary)\n",
    "        variables.append(x)"
   ]
  },
  {
   "cell_type": "code",
   "execution_count": 43,
   "metadata": {
    "collapsed": false,
    "deletable": true,
    "editable": true
   },
   "outputs": [
    {
     "data": {
      "text/plain": [
       "[x11,\n",
       " x12,\n",
       " x13,\n",
       " x21,\n",
       " x22,\n",
       " x23,\n",
       " x31,\n",
       " x32,\n",
       " x33,\n",
       " x41,\n",
       " x42,\n",
       " x43,\n",
       " x51,\n",
       " x52,\n",
       " x53,\n",
       " x61,\n",
       " x62,\n",
       " x63,\n",
       " x71,\n",
       " x72,\n",
       " x73,\n",
       " x81,\n",
       " x82,\n",
       " x83,\n",
       " x91,\n",
       " x92,\n",
       " x93,\n",
       " x101,\n",
       " x102,\n",
       " x103,\n",
       " x111,\n",
       " x112,\n",
       " x113,\n",
       " x121,\n",
       " x122,\n",
       " x123,\n",
       " x131,\n",
       " x132,\n",
       " x133,\n",
       " x141,\n",
       " x142,\n",
       " x143,\n",
       " x151,\n",
       " x152,\n",
       " x153,\n",
       " x161,\n",
       " x162,\n",
       " x163,\n",
       " x171,\n",
       " x172,\n",
       " x173,\n",
       " x181,\n",
       " x182,\n",
       " x183,\n",
       " x191,\n",
       " x192,\n",
       " x193,\n",
       " x201,\n",
       " x202,\n",
       " x203]"
      ]
     },
     "execution_count": 43,
     "metadata": {},
     "output_type": "execute_result"
    }
   ],
   "source": [
    "variables"
   ]
  },
  {
   "cell_type": "code",
   "execution_count": 44,
   "metadata": {
    "collapsed": true,
    "deletable": true,
    "editable": true
   },
   "outputs": [],
   "source": [
    "# now build the costs\n",
    "\n",
    "# first cadre of ships (1-8)\n",
    "costs = []\n",
    "for i in range(1,9):\n",
    "    for j in range(1,4):\n",
    "        if j == 1:\n",
    "            costs.append(1)\n",
    "        if j == 2:\n",
    "            costs.append(3)\n",
    "        if j == 3:\n",
    "            costs.append(2)\n",
    "            \n",
    "# second cadre\n",
    "for i in range(9,14):\n",
    "    for j in range(1,4):\n",
    "        if j == 1:\n",
    "            costs.append(2)\n",
    "        if j == 2:\n",
    "            costs.append(2)\n",
    "        if j == 3:\n",
    "            costs.append(1)\n",
    "            \n",
    "# third cadre\n",
    "for i in range(14,21):\n",
    "    for j in range(1,4):\n",
    "        if j == 1:\n",
    "            costs.append(3)\n",
    "        if j == 2:\n",
    "            costs.append(2)\n",
    "        if j == 3:\n",
    "            costs.append(1)"
   ]
  },
  {
   "cell_type": "code",
   "execution_count": 45,
   "metadata": {
    "collapsed": false,
    "deletable": true,
    "editable": true
   },
   "outputs": [
    {
     "data": {
      "text/plain": [
       "60"
      ]
     },
     "execution_count": 45,
     "metadata": {},
     "output_type": "execute_result"
    }
   ],
   "source": [
    "len(costs)"
   ]
  },
  {
   "cell_type": "code",
   "execution_count": 46,
   "metadata": {
    "collapsed": false,
    "deletable": true,
    "editable": true
   },
   "outputs": [],
   "source": [
    "# now build the model\n",
    "\n",
    "# first, add the objective function\n",
    "p += lpDot(costs,variables)\n",
    "\n",
    "# now we need the constraint that any ship goes to only one port\n",
    "for j in range(0,60,3):\n",
    "    p += (variables[j]+variables[j+1]+variables[j+2]) == 1\n",
    "\n",
    "# and the constraints on the number of ships that can fit in a port\n",
    "\n",
    "# first dock\n",
    "dock1 = []\n",
    "for j in range(0,60,3):\n",
    "    dock1.append(variables[j])\n",
    "\n",
    "p += lpSum(dock1) == 4\n",
    "\n",
    "# second dock\n",
    "dock2 = []\n",
    "for j in range(1,60,3):\n",
    "    dock2.append(variables[j])\n",
    "    \n",
    "p += lpSum(dock2) == 7\n",
    "\n",
    "# and the last one\n",
    "dock3 = []\n",
    "for j in range(2,60,3):\n",
    "    dock3.append(variables[j])\n",
    "    \n",
    "p += lpSum(dock3) == 9"
   ]
  },
  {
   "cell_type": "code",
   "execution_count": null,
   "metadata": {
    "collapsed": true,
    "deletable": true,
    "editable": true
   },
   "outputs": [],
   "source": []
  },
  {
   "cell_type": "code",
   "execution_count": 50,
   "metadata": {
    "collapsed": false,
    "deletable": true,
    "editable": true
   },
   "outputs": [],
   "source": [
    "status = p.solve()"
   ]
  },
  {
   "cell_type": "code",
   "execution_count": 52,
   "metadata": {
    "collapsed": false,
    "deletable": true,
    "editable": true
   },
   "outputs": [
    {
     "name": "stdout",
     "output_type": "stream",
     "text": [
      "Optimal\n"
     ]
    }
   ],
   "source": [
    "print LpStatus[status]"
   ]
  },
  {
   "cell_type": "code",
   "execution_count": 53,
   "metadata": {
    "collapsed": false,
    "scrolled": false
   },
   "outputs": [
    {
     "data": {
      "text/plain": [
       "ports:\n",
       "MINIMIZE\n",
       "2*x101 + 2*x102 + 1*x103 + 1*x11 + 2*x111 + 2*x112 + 1*x113 + 3*x12 + 2*x121 + 2*x122 + 1*x123 + 2*x13 + 2*x131 + 2*x132 + 1*x133 + 3*x141 + 2*x142 + 1*x143 + 3*x151 + 2*x152 + 1*x153 + 3*x161 + 2*x162 + 1*x163 + 3*x171 + 2*x172 + 1*x173 + 3*x181 + 2*x182 + 1*x183 + 3*x191 + 2*x192 + 1*x193 + 3*x201 + 2*x202 + 1*x203 + 1*x21 + 3*x22 + 2*x23 + 1*x31 + 3*x32 + 2*x33 + 1*x41 + 3*x42 + 2*x43 + 1*x51 + 3*x52 + 2*x53 + 1*x61 + 3*x62 + 2*x63 + 1*x71 + 3*x72 + 2*x73 + 1*x81 + 3*x82 + 2*x83 + 2*x91 + 2*x92 + 1*x93 + 0\n",
       "SUBJECT TO\n",
       "_C1: x11 + x12 + x13 = 1\n",
       "\n",
       "_C2: x21 + x22 + x23 = 1\n",
       "\n",
       "_C3: x31 + x32 + x33 = 1\n",
       "\n",
       "_C4: x41 + x42 + x43 = 1\n",
       "\n",
       "_C5: x51 + x52 + x53 = 1\n",
       "\n",
       "_C6: x61 + x62 + x63 = 1\n",
       "\n",
       "_C7: x71 + x72 + x73 = 1\n",
       "\n",
       "_C8: x81 + x82 + x83 = 1\n",
       "\n",
       "_C9: x91 + x92 + x93 = 1\n",
       "\n",
       "_C10: x101 + x102 + x103 = 1\n",
       "\n",
       "_C11: x111 + x112 + x113 = 1\n",
       "\n",
       "_C12: x121 + x122 + x123 = 1\n",
       "\n",
       "_C13: x131 + x132 + x133 = 1\n",
       "\n",
       "_C14: x141 + x142 + x143 = 1\n",
       "\n",
       "_C15: x151 + x152 + x153 = 1\n",
       "\n",
       "_C16: x161 + x162 + x163 = 1\n",
       "\n",
       "_C17: x171 + x172 + x173 = 1\n",
       "\n",
       "_C18: x181 + x182 + x183 = 1\n",
       "\n",
       "_C19: x191 + x192 + x193 = 1\n",
       "\n",
       "_C20: x201 + x202 + x203 = 1\n",
       "\n",
       "_C21: x101 + x11 + x111 + x121 + x131 + x141 + x151 + x161 + x171 + x181\n",
       " + x191 + x201 + x21 + x31 + x41 + x51 + x61 + x71 + x81 + x91 = 4\n",
       "\n",
       "_C22: x102 + x112 + x12 + x122 + x132 + x142 + x152 + x162 + x172 + x182\n",
       " + x192 + x202 + x22 + x32 + x42 + x52 + x62 + x72 + x82 + x92 = 7\n",
       "\n",
       "_C23: x103 + x113 + x123 + x13 + x133 + x143 + x153 + x163 + x173 + x183\n",
       " + x193 + x203 + x23 + x33 + x43 + x53 + x63 + x73 + x83 + x93 = 9\n",
       "\n",
       "VARIABLES\n",
       "0 <= x101 <= 1 Integer\n",
       "0 <= x102 <= 1 Integer\n",
       "0 <= x103 <= 1 Integer\n",
       "0 <= x11 <= 1 Integer\n",
       "0 <= x111 <= 1 Integer\n",
       "0 <= x112 <= 1 Integer\n",
       "0 <= x113 <= 1 Integer\n",
       "0 <= x12 <= 1 Integer\n",
       "0 <= x121 <= 1 Integer\n",
       "0 <= x122 <= 1 Integer\n",
       "0 <= x123 <= 1 Integer\n",
       "0 <= x13 <= 1 Integer\n",
       "0 <= x131 <= 1 Integer\n",
       "0 <= x132 <= 1 Integer\n",
       "0 <= x133 <= 1 Integer\n",
       "0 <= x141 <= 1 Integer\n",
       "0 <= x142 <= 1 Integer\n",
       "0 <= x143 <= 1 Integer\n",
       "0 <= x151 <= 1 Integer\n",
       "0 <= x152 <= 1 Integer\n",
       "0 <= x153 <= 1 Integer\n",
       "0 <= x161 <= 1 Integer\n",
       "0 <= x162 <= 1 Integer\n",
       "0 <= x163 <= 1 Integer\n",
       "0 <= x171 <= 1 Integer\n",
       "0 <= x172 <= 1 Integer\n",
       "0 <= x173 <= 1 Integer\n",
       "0 <= x181 <= 1 Integer\n",
       "0 <= x182 <= 1 Integer\n",
       "0 <= x183 <= 1 Integer\n",
       "0 <= x191 <= 1 Integer\n",
       "0 <= x192 <= 1 Integer\n",
       "0 <= x193 <= 1 Integer\n",
       "0 <= x201 <= 1 Integer\n",
       "0 <= x202 <= 1 Integer\n",
       "0 <= x203 <= 1 Integer\n",
       "0 <= x21 <= 1 Integer\n",
       "0 <= x22 <= 1 Integer\n",
       "0 <= x23 <= 1 Integer\n",
       "0 <= x31 <= 1 Integer\n",
       "0 <= x32 <= 1 Integer\n",
       "0 <= x33 <= 1 Integer\n",
       "0 <= x41 <= 1 Integer\n",
       "0 <= x42 <= 1 Integer\n",
       "0 <= x43 <= 1 Integer\n",
       "0 <= x51 <= 1 Integer\n",
       "0 <= x52 <= 1 Integer\n",
       "0 <= x53 <= 1 Integer\n",
       "0 <= x61 <= 1 Integer\n",
       "0 <= x62 <= 1 Integer\n",
       "0 <= x63 <= 1 Integer\n",
       "0 <= x71 <= 1 Integer\n",
       "0 <= x72 <= 1 Integer\n",
       "0 <= x73 <= 1 Integer\n",
       "0 <= x81 <= 1 Integer\n",
       "0 <= x82 <= 1 Integer\n",
       "0 <= x83 <= 1 Integer\n",
       "0 <= x91 <= 1 Integer\n",
       "0 <= x92 <= 1 Integer\n",
       "0 <= x93 <= 1 Integer"
      ]
     },
     "execution_count": 53,
     "metadata": {},
     "output_type": "execute_result"
    }
   ],
   "source": [
    "p"
   ]
  },
  {
   "cell_type": "code",
   "execution_count": 54,
   "metadata": {
    "collapsed": false
   },
   "outputs": [
    {
     "name": "stdout",
     "output_type": "stream",
     "text": [
      "x11\n",
      "x23\n",
      "x33\n",
      "x41\n",
      "x52\n",
      "x63\n",
      "x71\n",
      "x81\n",
      "x92\n",
      "x102\n",
      "x113\n",
      "x123\n",
      "x133\n",
      "x142\n",
      "x153\n",
      "x163\n",
      "x172\n",
      "x183\n",
      "x192\n",
      "x202\n"
     ]
    }
   ],
   "source": [
    "for j in variables:\n",
    "    if j.value():\n",
    "        print j"
   ]
  },
  {
   "cell_type": "code",
   "execution_count": 59,
   "metadata": {
    "collapsed": false
   },
   "outputs": [
    {
     "name": "stdout",
     "output_type": "stream",
     "text": [
      "31.0\n"
     ]
    }
   ],
   "source": [
    "print value(p.objective)"
   ]
  },
  {
   "cell_type": "code",
   "execution_count": null,
   "metadata": {
    "collapsed": true
   },
   "outputs": [],
   "source": []
  }
 ],
 "metadata": {
  "kernelspec": {
   "display_name": "Python 2",
   "language": "python",
   "name": "python2"
  },
  "language_info": {
   "codemirror_mode": {
    "name": "ipython",
    "version": 2
   },
   "file_extension": ".py",
   "mimetype": "text/x-python",
   "name": "python",
   "nbconvert_exporter": "python",
   "pygments_lexer": "ipython2",
   "version": "2.7.12"
  }
 },
 "nbformat": 4,
 "nbformat_minor": 2
}
