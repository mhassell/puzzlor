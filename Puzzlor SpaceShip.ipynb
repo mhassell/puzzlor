{
 "cells": [
  {
   "cell_type": "code",
   "execution_count": 30,
   "metadata": {
    "collapsed": false,
    "deletable": true,
    "editable": true
   },
   "outputs": [],
   "source": [
    "# from here http://puzzlor.com/2016-12_GalaxyOnFire.html\n",
    "%matplotlib inline\n",
    "import numpy as np\n",
    "import matplotlib.pyplot as plt\n",
    "from sklearn import linear_model\n",
    "import seaborn as sns\n",
    "import pandas as pd"
   ]
  },
  {
   "cell_type": "code",
   "execution_count": 20,
   "metadata": {
    "collapsed": false,
    "deletable": true,
    "editable": true
   },
   "outputs": [],
   "source": [
    "inputs = np.array([[25, 2, 6],\n",
    "                 [350, 0, 8],\n",
    "                 [38, 4, 5],\n",
    "                 [28, 2, 8],\n",
    "                 [45, 2, 7],\n",
    "                 [80, 2, 8],\n",
    "                 [60, 4, 6],\n",
    "                 [50, 3,  5],\n",
    "                 [65, 2,  7],\n",
    "                 [30, 2, 6]])\n",
    "targets = np.array([51975, 168900, 235600, 171900, 150000, 250000, 294900, 100100, 125400, 72500])\n",
    "targets = targets.reshape(10,1)"
   ]
  },
  {
   "cell_type": "code",
   "execution_count": 21,
   "metadata": {
    "collapsed": false,
    "deletable": true,
    "editable": true
   },
   "outputs": [
    {
     "data": {
      "text/plain": [
       "array([[ 25,   2,   6],\n",
       "       [350,   0,   8],\n",
       "       [ 38,   4,   5],\n",
       "       [ 28,   2,   8],\n",
       "       [ 45,   2,   7],\n",
       "       [ 80,   2,   8],\n",
       "       [ 60,   4,   6],\n",
       "       [ 50,   3,   5],\n",
       "       [ 65,   2,   7],\n",
       "       [ 30,   2,   6]])"
      ]
     },
     "execution_count": 21,
     "metadata": {},
     "output_type": "execute_result"
    }
   ],
   "source": [
    "inputs"
   ]
  },
  {
   "cell_type": "code",
   "execution_count": 27,
   "metadata": {
    "collapsed": false
   },
   "outputs": [
    {
     "data": {
      "text/plain": [
       "array([[    25,      2,      6,  51975],\n",
       "       [   350,      0,      8, 168900],\n",
       "       [    38,      4,      5, 235600],\n",
       "       [    28,      2,      8, 171900],\n",
       "       [    45,      2,      7, 150000],\n",
       "       [    80,      2,      8, 250000],\n",
       "       [    60,      4,      6, 294900],\n",
       "       [    50,      3,      5, 100100],\n",
       "       [    65,      2,      7, 125400],\n",
       "       [    30,      2,      6,  72500]])"
      ]
     },
     "execution_count": 27,
     "metadata": {},
     "output_type": "execute_result"
    }
   ],
   "source": [
    "everything = np.concatenate((inputs,targets),axis=1)\n",
    "everything"
   ]
  },
  {
   "cell_type": "code",
   "execution_count": 35,
   "metadata": {
    "collapsed": false
   },
   "outputs": [
    {
     "data": {
      "text/plain": [
       "<seaborn.axisgrid.PairGrid at 0x10bfed590>"
      ]
     },
     "execution_count": 35,
     "metadata": {},
     "output_type": "execute_result"
    },
    {
     "data": {
      "image/png": "[encoded data removed]",
      "text/plain": [
       "<matplotlib.figure.Figure at 0x10c051d50>"
      ]
     },
     "metadata": {},
     "output_type": "display_data"
    }
   ],
   "source": [
    "df = pd.DataFrame(everything)\n",
    "sns.pairplot(df)"
   ]
  },
  {
   "cell_type": "code",
   "execution_count": 8,
   "metadata": {
    "collapsed": false,
    "deletable": true,
    "editable": true
   },
   "outputs": [
    {
     "data": {
      "text/plain": [
       "LinearRegression(copy_X=True, fit_intercept=False, n_jobs=1, normalize=True)"
      ]
     },
     "execution_count": 8,
     "metadata": {},
     "output_type": "execute_result"
    }
   ],
   "source": [
    "reg = linear_model.LinearRegression(fit_intercept = False, normalize=True)\n",
    "reg.fit(inputs,targets)"
   ]
  },
  {
   "cell_type": "code",
   "execution_count": 9,
   "metadata": {
    "collapsed": false,
    "deletable": true,
    "editable": true
   },
   "outputs": [
    {
     "data": {
      "text/plain": [
       "array([   401.34770356,  45416.62437713,   4734.98681125])"
      ]
     },
     "execution_count": 9,
     "metadata": {},
     "output_type": "execute_result"
    }
   ],
   "source": [
    "reg.coef_"
   ]
  },
  {
   "cell_type": "code",
   "execution_count": 10,
   "metadata": {
    "collapsed": false,
    "deletable": true,
    "editable": true
   },
   "outputs": [
    {
     "data": {
      "text/plain": [
       "array([-77301.86221087,  -9451.59073738,  15007.35569979,  31949.12105594,\n",
       "         7961.1969066 ,  89179.04047061,  60742.71941013, -79892.19236585,\n",
       "       -24665.75716468, -58783.60072869])"
      ]
     },
     "execution_count": 10,
     "metadata": {},
     "output_type": "execute_result"
    }
   ],
   "source": [
    "(targets - np.dot(inputs,reg.coef_.T))"
   ]
  },
  {
   "cell_type": "code",
   "execution_count": 11,
   "metadata": {
    "collapsed": false,
    "deletable": true,
    "editable": true
   },
   "outputs": [
    {
     "data": {
      "text/plain": [
       "-79892.192365845083"
      ]
     },
     "execution_count": 11,
     "metadata": {},
     "output_type": "execute_result"
    }
   ],
   "source": [
    "(targets - np.dot(inputs,reg.coef_)).min()"
   ]
  },
  {
   "cell_type": "code",
   "execution_count": null,
   "metadata": {
    "collapsed": true,
    "deletable": true,
    "editable": true
   },
   "outputs": [],
   "source": []
  }
 ],
 "metadata": {
  "kernelspec": {
   "display_name": "Python 2",
   "language": "python",
   "name": "python2"
  },
  "language_info": {
   "codemirror_mode": {
    "name": "ipython",
    "version": 2
   },
   "file_extension": ".py",
   "mimetype": "text/x-python",
   "name": "python",
   "nbconvert_exporter": "python",
   "pygments_lexer": "ipython2",
   "version": "2.7.12"
  }
 },
 "nbformat": 4,
 "nbformat_minor": 2
}
