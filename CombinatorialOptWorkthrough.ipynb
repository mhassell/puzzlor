{
 "cells": [
  {
   "cell_type": "markdown",
   "metadata": {},
   "source": [
    "I'm not quite sure how to approach this problem: http://puzzlor.com/2014-12_Electrifying.html so I'm going to work through this http://isaacslavitt.com/2015/02/26/combinatorial-optimization/ solution set to understand where I can apply these tools to other puzzlor problems"
   ]
  },
  {
   "cell_type": "code",
   "execution_count": 1,
   "metadata": {
    "collapsed": true
   },
   "outputs": [],
   "source": [
    "%matplotlib inline\n",
    "from matplotlib import pyplot as plt\n",
    "import numpy as np\n",
    "np.set_printoptions(precision=2)"
   ]
  },
  {
   "cell_type": "code",
   "execution_count": null,
   "metadata": {
    "collapsed": true
   },
   "outputs": [],
   "source": [
    "neighborhoods = ['A6', 'B2', 'B4', 'B5', 'B7', 'C5', 'C10', 'D9',\n",
    "                 'E2', 'E6', 'E8', 'F3', 'F5', 'G8', 'G9', 'H3',\n",
    "                 'H5', 'H7', 'H8', 'J4']\n",
    "array_to_alphanum = lambda(i,j): '{}{}'.format('JIHGFEDCBA'[i],range(1,11)[j])\n",
    "alphanum_to_array = lambda n: "
   ]
  }
 ],
 "metadata": {
  "kernelspec": {
   "display_name": "Python 2",
   "language": "python",
   "name": "python2"
  },
  "language_info": {
   "codemirror_mode": {
    "name": "ipython",
    "version": 2
   },
   "file_extension": ".py",
   "mimetype": "text/x-python",
   "name": "python",
   "nbconvert_exporter": "python",
   "pygments_lexer": "ipython2",
   "version": "2.7.12"
  }
 },
 "nbformat": 4,
 "nbformat_minor": 2
}
