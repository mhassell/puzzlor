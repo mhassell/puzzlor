{
 "cells": [
  {
   "cell_type": "markdown",
   "metadata": {
    "deletable": true,
    "editable": true
   },
   "source": [
    "I'm not quite sure how to approach this problem: http://puzzlor.com/2014-12_Electrifying.html so I'm going to work through this http://isaacslavitt.com/2015/02/26/combinatorial-optimization/ solution set to understand where I can apply these tools to other puzzlor problems"
   ]
  },
  {
   "cell_type": "code",
   "execution_count": 1,
   "metadata": {
    "collapsed": false,
    "deletable": true,
    "editable": true
   },
   "outputs": [],
   "source": [
    "%matplotlib inline\n",
    "from matplotlib import pyplot as plt\n",
    "import seaborn as sns\n",
    "import numpy as np\n",
    "np.set_printoptions(precision=2)"
   ]
  },
  {
   "cell_type": "code",
   "execution_count": 2,
   "metadata": {
    "collapsed": true,
    "deletable": true,
    "editable": true
   },
   "outputs": [],
   "source": [
    "neighborhoods = ['A6', 'B2', 'B4', 'B5', 'B7', 'C5', 'C10', 'D9',\n",
    "                 'E2', 'E6', 'E8', 'F3', 'F5', 'G8', 'G9', 'H3',\n",
    "                 'H5', 'H7', 'H8', 'J4']\n",
    "# this is amazing:\n",
    "array_to_alphanum = lambda(i,j): '{}{}'.format('JIHGFEDCBA'[i],range(1,11)[j])\n",
    "alphanum_to_array = lambda n: ['JIHGFEDCBA'.index(n[0]),int(n[1:])-1]"
   ]
  },
  {
   "cell_type": "code",
   "execution_count": 3,
   "metadata": {
    "collapsed": false,
    "deletable": true,
    "editable": true
   },
   "outputs": [],
   "source": [
    "N = np.array(map(alphanum_to_array,neighborhoods))"
   ]
  },
  {
   "cell_type": "code",
   "execution_count": 4,
   "metadata": {
    "collapsed": true,
    "deletable": true,
    "editable": true
   },
   "outputs": [],
   "source": [
    "# define the loss function\n",
    "def dists(s,N):\n",
    "    \"\"\"\n",
    "    determine each neighborhood's dist from a given point\n",
    "    \n",
    "    s - a single point\n",
    "    N - the array of neighborhoods placements\n",
    "    \"\"\"\n",
    "    inds = N - np.array(s)\n",
    "    \n",
    "    return np.sqrt(inds[:,0]**2 + inds[:,1]**2)   "
   ]
  },
  {
   "cell_type": "code",
   "execution_count": 5,
   "metadata": {
    "collapsed": false,
    "deletable": true,
    "editable": true
   },
   "outputs": [
    {
     "data": {
      "text/plain": [
       "array([ 4.  ,  5.  ,  3.61,  3.16,  3.16,  2.24,  4.47,  3.16,  4.  ,\n",
       "        0.  ,  2.  ,  3.16,  1.41,  2.83,  3.61,  4.24,  3.16,  3.16,\n",
       "        3.61,  5.39])"
      ]
     },
     "execution_count": 5,
     "metadata": {},
     "output_type": "execute_result"
    }
   ],
   "source": [
    "dists([5,5],N)"
   ]
  },
  {
   "cell_type": "code",
   "execution_count": 6,
   "metadata": {
    "collapsed": true,
    "deletable": true,
    "editable": true
   },
   "outputs": [],
   "source": [
    "def coords_to_dist_matrix(ss, N):\n",
    "    \"\"\"\n",
    "    returns the Nplants x Nneigh matrix of all Euclidean dists\n",
    "    \n",
    "    ss  - an array of multiple power plant locations\n",
    "    N - 2d array of neightborhood locations\n",
    "    \"\"\"\n",
    "    return np.vstack(dists(s,N) for s in ss)    # vstack stacks the outputs of the iterator and gives the matrix"
   ]
  },
  {
   "cell_type": "code",
   "execution_count": 7,
   "metadata": {
    "collapsed": false,
    "deletable": true,
    "editable": true
   },
   "outputs": [
    {
     "data": {
      "text/plain": [
       "array([[ 8.54,  7.07,  7.07,  7.28,  8.06,  6.32,  9.22,  7.81,  4.12,\n",
       "         5.  ,  6.4 ,  3.  ,  3.61,  5.39,  6.32,  1.  ,  2.24,  4.12,\n",
       "         5.1 ,  1.41],\n",
       "       [ 9.06,  9.43,  8.54,  8.25,  8.  ,  7.28,  7.62,  6.32,  7.07,\n",
       "         5.1 ,  5.1 ,  5.66,  4.47,  3.16,  3.61,  4.47,  2.83,  2.  ,\n",
       "         2.24,  3.  ],\n",
       "       [ 2.24,  2.  ,  0.  ,  1.  ,  3.  ,  1.41,  6.08,  5.39,  3.61,\n",
       "         3.61,  5.  ,  4.12,  4.12,  6.4 ,  7.07,  6.08,  6.08,  6.71,\n",
       "         7.21,  8.  ]])"
      ]
     },
     "execution_count": 7,
     "metadata": {},
     "output_type": "execute_result"
    }
   ],
   "source": [
    "# now test it\n",
    "ss0 = [(1,2), (0,6), (8,3)]\n",
    "coords_to_dist_matrix(ss0,N)"
   ]
  },
  {
   "cell_type": "code",
   "execution_count": 8,
   "metadata": {
    "collapsed": true,
    "deletable": true,
    "editable": true
   },
   "outputs": [],
   "source": [
    "# return the smallest value, since that is the power plant that will be responsible\n",
    "def responsibilities(ss, N):\n",
    "    \"\"\"\n",
    "    Given a list of where power plants are located, return an array of which is closest to each location\n",
    "    \n",
    "    ss - array of power plant locations\n",
    "    N - 2d array of neighborhood locations\n",
    "    \"\"\"\n",
    "    ds = coords_to_dist_matrix(ss, N)\n",
    "    # argmin axis = 0 returns the column in which the row in which the min occurs\n",
    "    # effectively, we iterate over cols and find the row with the min\n",
    "    return np.argmin(ds, axis=0)  "
   ]
  },
  {
   "cell_type": "code",
   "execution_count": 9,
   "metadata": {
    "collapsed": false,
    "deletable": true,
    "editable": true
   },
   "outputs": [
    {
     "data": {
      "text/plain": [
       "array([2, 2, 2, 2, 2, 2, 2, 2, 2, 2, 2, 0, 0, 1, 1, 0, 0, 1, 1, 0])"
      ]
     },
     "execution_count": 9,
     "metadata": {},
     "output_type": "execute_result"
    }
   ],
   "source": [
    "responsibilities(ss0, N)"
   ]
  },
  {
   "cell_type": "code",
   "execution_count": 10,
   "metadata": {
    "collapsed": false,
    "deletable": true,
    "editable": true
   },
   "outputs": [
    {
     "data": {
      "text/plain": [
       "[11.255832815336875, 11.003896913132159, 33.329311428233581]"
      ]
     },
     "execution_count": 10,
     "metadata": {},
     "output_type": "execute_result"
    }
   ],
   "source": [
    "def responsible_dist_sums(ss, N, rs=()):\n",
    "    \"\"\"\n",
    "    retunrs the sums of edge lengths for each power plant, accounting for which is closest\n",
    "    \n",
    "    ss - array of multiple (x,y) power plant placements\n",
    "    N - 2D array of neighborhood locations\n",
    "    rs - (optional) forced assignment of responsibility\n",
    "    \"\"\"\n",
    "    if not len(rs):\n",
    "        rs = responsibilities(ss, N)\n",
    "    \n",
    "    sums = [dists(s, N)[np.argwhere(rs==i)].sum() for i,s in enumerate(ss)]\n",
    "    return sums\n",
    "    \n",
    "responsible_dist_sums(ss0, N)"
   ]
  },
  {
   "cell_type": "code",
   "execution_count": 11,
   "metadata": {
    "collapsed": false,
    "deletable": true,
    "editable": true
   },
   "outputs": [
    {
     "data": {
      "text/plain": [
       "55.589041156702613"
      ]
     },
     "execution_count": 11,
     "metadata": {},
     "output_type": "execute_result"
    }
   ],
   "source": [
    "# defining the energy function for simulated annealing\n",
    "def E(ss, N, rs=()):\n",
    "    \"\"\"\n",
    "    objective function, returns the cost, in millions, to connect all neighborhoods\n",
    "    \n",
    "    ss - array of multiple (x,y) power plant placements\n",
    "    N - 2D array of neighborhood locations\n",
    "    rs - (optional) forced assignment of responsibility\n",
    "    \"\"\"\n",
    "    return(sum(responsible_dist_sums(ss, N, rs=rs)))\n",
    "\n",
    "E(ss0, N)"
   ]
  },
  {
   "cell_type": "code",
   "execution_count": 12,
   "metadata": {
    "collapsed": false,
    "deletable": true,
    "editable": true
   },
   "outputs": [
    {
     "data": {
      "image/png": "[encoded data removed]",
      "text/plain": [
       "<matplotlib.figure.Figure at 0x109e80e50>"
      ]
     },
     "metadata": {},
     "output_type": "display_data"
    }
   ],
   "source": [
    "# i need to get better at data viz!\n",
    "def plot_placements(ss, N, rs=()):\n",
    "    \"\"\"\n",
    "    plot the neighborhoods and power plants together\n",
    "    \n",
    "    \"\"\"\n",
    "    \n",
    "    plt.figure(figsize=(6,6))\n",
    "    colors = ['#30a2da', '#fc4f30', '#e5ae38', '#6d904f', '#8b8b8b']\n",
    "    \n",
    "    # use this to flip the array so that (0,0) is at top left\n",
    "    height = N[:, 0].max()\n",
    "    \n",
    "    if not len(rs):\n",
    "        rs = responsibilities(ss, N)\n",
    "        \n",
    "        # plot the neighborhoods\n",
    "    for i, (y, x) in enumerate(N):\n",
    "        # plot the responsibility edges\n",
    "        sy, sx = ss[rs[i]]\n",
    "        plt.plot((x, sx), (height - y, height - sy), c=colors[rs[i]], zorder=1)\n",
    "        \n",
    "        # plot the neighborhoods themselves\n",
    "        plt.scatter(x, height - y, marker='s', s=100, c='gray', lw=2,\n",
    "                    edgecolor=colors[rs[i]], zorder=2)\n",
    "    \n",
    "    # plot the power plants\n",
    "    for i, (y, x) in enumerate(np.asarray(ss)):\n",
    "        plt.scatter(x, height - y, s=100, c=colors[i], zorder=3)\n",
    "    \n",
    "    # tweak the settings\n",
    "    plt.grid(True)\n",
    "    plt.xlim(-0.5, 9.5)\n",
    "    plt.ylim(-0.5, 9.5)\n",
    "    plt.xticks(np.arange(10), np.arange(1, 11))\n",
    "    plt.yticks(np.arange(10), 'ABCDEFGHIJ')\n",
    "    plt.show()\n",
    "    \n",
    "plot_placements(ss0, N)\n",
    "    "
   ]
  },
  {
   "cell_type": "code",
   "execution_count": 13,
   "metadata": {
    "collapsed": true,
    "deletable": true,
    "editable": true
   },
   "outputs": [],
   "source": [
    "def sim_anneal(energy, perturb, n0, ntrial=100000, t0=2.0, thermo=0.9,\n",
    "               reanneal=1000, verbose=True, other_func=None):\n",
    "    print_str = 'reannealing; i[{}] exp(dE/t)[{}] eprev[{}], enew[{}]'\n",
    "\n",
    "    # initialize values\n",
    "    temp = t0\n",
    "    n = n0\n",
    "    e_prev = energy(n)\n",
    "\n",
    "    # initialize our value holders\n",
    "    energies = [e_prev]\n",
    "    other = [other_func(n)] if other_func else []\n",
    "    \n",
    "    # keep track of the best\n",
    "    e_best = e_prev\n",
    "    n_best = n0\n",
    "\n",
    "    for i in xrange(ntrial):\n",
    "\n",
    "        # get proposal and calculate energy\n",
    "        propose_n = perturb(n)\n",
    "        e_new = energy(propose_n)\n",
    "        deltaE = e_prev - e_new\n",
    "        \n",
    "        # store this for later if it's better than our best so far\n",
    "        if e_new < e_best:\n",
    "            e_best = e_new\n",
    "            n_best = propose_n\n",
    "\n",
    "        # decide whether to accept the proposal\n",
    "        if e_new < e_prev or np.random.rand() < np.exp(deltaE / temp):\n",
    "            e_prev = e_new\n",
    "            n = propose_n\n",
    "            energies.append(e_new)\n",
    "\n",
    "            if other_func:\n",
    "                other.append(other_func(n))\n",
    "\n",
    "        # stop computing if the solution is found\n",
    "        if e_prev == 0:\n",
    "            break\n",
    "\n",
    "        # reanneal if necessary\n",
    "        if (i % reanneal) == 0:\n",
    "\n",
    "            if verbose:\n",
    "                print print_str.format(i, np.exp(deltaE / temp), e_prev, e_new)\n",
    "\n",
    "            # re-anneal up to fraction of temperature\n",
    "            temp = temp * thermo\n",
    "\n",
    "            # if temp falls below minimum, bump back up\n",
    "            if temp < 0.1:\n",
    "                temp = 0.5\n",
    "\n",
    "    return n_best, np.array(energies), np.array(other)"
   ]
  },
  {
   "cell_type": "code",
   "execution_count": 14,
   "metadata": {
    "collapsed": true,
    "deletable": true,
    "editable": true
   },
   "outputs": [],
   "source": [
    "def perturb(ss):\n",
    "    # pick one to change\n",
    "    change_idx = np.random.randint(0, ss.shape[0])\n",
    "    \n",
    "    # now add some noise to it\n",
    "    to_add = np.zeros_like(ss)\n",
    "    to_add[change_idx] += np.random.normal(size=ss.shape[1])\n",
    "    \n",
    "    return ss + to_add"
   ]
  },
  {
   "cell_type": "code",
   "execution_count": 15,
   "metadata": {
    "collapsed": false,
    "deletable": true,
    "editable": true
   },
   "outputs": [
    {
     "name": "stdout",
     "output_type": "stream",
     "text": [
      "reannealing; i[0] exp(dE/t)[0.0223328516454] eprev[55.5890411567], enew[63.1924341899]\n",
      "reannealing; i[1000] exp(dE/t)[0.329192987808] eprev[36.5404812614], enew[38.5404812614]\n",
      "reannealing; i[2000] exp(dE/t)[1.0] eprev[43.5204326429], enew[43.5204326429]\n",
      "reannealing; i[3000] exp(dE/t)[1.34310009251] eprev[41.9493432308], enew[41.9493432308]\n",
      "reannealing; i[4000] exp(dE/t)[0.00581353455969] eprev[37.9516926783], enew[44.7063294857]\n",
      "reannealing; i[5000] exp(dE/t)[0.0428664555542] eprev[42.5981198734], enew[46.317812049]\n",
      "reannealing; i[6000] exp(dE/t)[0.0284431879275] eprev[42.0033687103], enew[45.7870655706]\n",
      "reannealing; i[7000] exp(dE/t)[1.0] eprev[36.7373772043], enew[36.7373772043]\n",
      "reannealing; i[8000] exp(dE/t)[1.51261872489] eprev[37.2487319029], enew[37.2487319029]\n",
      "reannealing; i[9000] exp(dE/t)[0.0452625793456] eprev[38.411009563], enew[38.411009563]\n",
      "reannealing; i[10000] exp(dE/t)[0.0235259021058] eprev[36.1617494573], enew[38.7765959479]\n",
      "reannealing; i[11000] exp(dE/t)[1.0880205993e-05] eprev[35.7765492389], enew[42.9493590698]\n",
      "reannealing; i[12000] exp(dE/t)[0.00125549219851] eprev[37.2000580164], enew[40.9734451818]\n",
      "reannealing; i[13000] exp(dE/t)[0.000197525109729] eprev[38.1748948766], enew[42.5111374278]\n",
      "reannealing; i[14000] exp(dE/t)[1.0] eprev[35.6274637069], enew[35.6274637069]\n",
      "reannealing; i[15000] exp(dE/t)[1.0] eprev[36.1617494573], enew[36.1617494573]\n",
      "reannealing; i[16000] exp(dE/t)[1.52639745305e-08] eprev[35.6274637069], enew[42.2975100847]\n",
      "reannealing; i[17000] exp(dE/t)[0.0255669570519] eprev[35.6274637069], enew[36.8503862652]\n",
      "reannealing; i[18000] exp(dE/t)[0.0162830796026] eprev[36.1617494573], enew[37.3978174348]\n",
      "reannealing; i[19000] exp(dE/t)[0.0340673981254] eprev[35.6274637069], enew[36.5404812614]\n",
      "CPU times: user 6.28 s, sys: 139 ms, total: 6.42 s\n",
      "Wall time: 6.56 s\n"
     ]
    }
   ],
   "source": [
    "%%time\n",
    "# set up energy function as partially applied E where we\n",
    "# make sure the best solution is still optimal when\n",
    "# snap solutions back to the grid points\n",
    "energy = lambda ss: E(np.round(ss), N)\n",
    "\n",
    "# create a tracker to keep on eye on placements as they move\n",
    "other_func = lambda x: x\n",
    "\n",
    "# set up the starting point as a 3x2 numpy array of floats\n",
    "n0 = np.array(ss0).astype(np.float32)\n",
    "\n",
    "result_anneal, energies_anneal, placements = sim_anneal(energy, perturb, n0, ntrial=20000, other_func=other_func)"
   ]
  },
  {
   "cell_type": "code",
   "execution_count": 16,
   "metadata": {
    "collapsed": false,
    "deletable": true,
    "editable": true
   },
   "outputs": [
    {
     "data": {
      "image/png": "[encoded data removed]",
      "text/plain": [
       "<matplotlib.figure.Figure at 0x109e80290>"
      ]
     },
     "metadata": {},
     "output_type": "display_data"
    }
   ],
   "source": [
    "plot_placements(result_anneal, N)\n"
   ]
  },
  {
   "cell_type": "code",
   "execution_count": 17,
   "metadata": {
    "collapsed": false,
    "deletable": true,
    "editable": true
   },
   "outputs": [
    {
     "data": {
      "image/png": "[encoded data removed]",
      "text/plain": [
       "<matplotlib.figure.Figure at 0x10a273850>"
      ]
     },
     "metadata": {},
     "output_type": "display_data"
    }
   ],
   "source": [
    "rounded = np.round(result_anneal)\n",
    "plot_placements(rounded, N)"
   ]
  },
  {
   "cell_type": "code",
   "execution_count": 18,
   "metadata": {
    "collapsed": false,
    "deletable": true,
    "editable": true
   },
   "outputs": [
    {
     "data": {
      "image/png": "[encoded data removed]",
      "text/plain": [
       "<matplotlib.figure.Figure at 0x10a47b250>"
      ]
     },
     "metadata": {},
     "output_type": "display_data"
    }
   ],
   "source": [
    "# plot the energies over time\n",
    "plt.plot(energies_anneal)\n",
    "\n",
    "# plot the rolling minimum of all proposals so far\n",
    "plt.plot(np.minimum.accumulate(energies_anneal), 'r', alpha=0.5,\n",
    "         label='minimum so far')\n",
    "\n",
    "loss_opt = 35.62746370694812\n",
    "\n",
    "# plot the optimal value (we know this from brute force, in real world\n",
    "# stochastic optimization we probably wouldn't)\n",
    "plt.axhline(y=loss_opt, c='g', ls='--', label='optimal')\n",
    "\n",
    "plt.ylim(ymin=loss_opt)\n",
    "plt.xlim(xmax=energies_anneal.size)\n",
    "plt.xlabel('accepted proposal number')\n",
    "plt.ylabel('energy')\n",
    "plt.legend()\n",
    "plt.show()"
   ]
  },
  {
   "cell_type": "code",
   "execution_count": null,
   "metadata": {
    "collapsed": true,
    "deletable": true,
    "editable": true
   },
   "outputs": [],
   "source": []
  },
  {
   "cell_type": "code",
   "execution_count": 19,
   "metadata": {
    "collapsed": true
   },
   "outputs": [],
   "source": [
    "rounded = np.round(result_anneal)"
   ]
  },
  {
   "cell_type": "code",
   "execution_count": 20,
   "metadata": {
    "collapsed": false
   },
   "outputs": [
    {
     "data": {
      "text/plain": [
       "array([[ 8.,  4.],\n",
       "       [ 4.,  7.],\n",
       "       [ 3.,  3.]], dtype=float32)"
      ]
     },
     "execution_count": 20,
     "metadata": {},
     "output_type": "execute_result"
    }
   ],
   "source": [
    "rounded"
   ]
  },
  {
   "cell_type": "code",
   "execution_count": null,
   "metadata": {
    "collapsed": true
   },
   "outputs": [],
   "source": []
  }
 ],
 "metadata": {
  "kernelspec": {
   "display_name": "Python 2",
   "language": "python",
   "name": "python2"
  },
  "language_info": {
   "codemirror_mode": {
    "name": "ipython",
    "version": 2
   },
   "file_extension": ".py",
   "mimetype": "text/x-python",
   "name": "python",
   "nbconvert_exporter": "python",
   "pygments_lexer": "ipython2",
   "version": "2.7.12"
  }
 },
 "nbformat": 4,
 "nbformat_minor": 2
}
