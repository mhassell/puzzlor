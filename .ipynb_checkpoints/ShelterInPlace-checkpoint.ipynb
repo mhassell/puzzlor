{
 "cells": [
  {
   "cell_type": "markdown",
   "metadata": {},
   "source": [
    "http://puzzlor.com/2016-10_ShelterInPlace.html"
   ]
  },
  {
   "cell_type": "code",
   "execution_count": 22,
   "metadata": {
    "collapsed": true
   },
   "outputs": [],
   "source": [
    "# first approach: brute force (there has to be a smarter way though)\n",
    "import numpy as np"
   ]
  },
  {
   "cell_type": "code",
   "execution_count": 23,
   "metadata": {
    "collapsed": true
   },
   "outputs": [],
   "source": [
    "# arrays to store the locations of what we need\n",
    "foodLocs = np.array([[6,1],[9,5],[9,9]])\n",
    "waterLocs = np.array([[9,7],[6,6],[3,8]])\n",
    "woodLocs = np.array([[10,2],[4,9],[1,5]])\n",
    "\n",
    "# array to exclude the places we can't camp\n",
    "exclude = np.array([[10,1],[8,1],[5,1],[1,1],[6,1],[1,7],[1,10],[2,10],[6,10],[7,10],[10,10],[10,7]])"
   ]
  },
  {
   "cell_type": "code",
   "execution_count": 24,
   "metadata": {
    "collapsed": true
   },
   "outputs": [],
   "source": [
    "def dist(i,j):\n",
    "    \"\"\"Get the distance we have to travel if we camp at location (i,j)\"\"\"\n",
    "    dist2water = 2*3*min([sum(abs((i,j)-loc)) for loc in waterLocs])\n",
    "    dist2wood  = 2*2*min([sum(abs((i,j)-loc)) for loc in woodLocs])\n",
    "    dist2food  = 2*min([sum(abs((i,j)-loc)) for loc in foodLocs])\n",
    "    return dist2water+dist2wood+dist2food"
   ]
  },
  {
   "cell_type": "code",
   "execution_count": 25,
   "metadata": {
    "collapsed": false
   },
   "outputs": [
    {
     "data": {
      "text/plain": [
       "32"
      ]
     },
     "execution_count": 25,
     "metadata": {},
     "output_type": "execute_result"
    }
   ],
   "source": [
    "dist(9,9) # double check"
   ]
  },
  {
   "cell_type": "code",
   "execution_count": 69,
   "metadata": {
    "collapsed": false
   },
   "outputs": [],
   "source": [
    "min_dist = 500\n",
    "min_loc = [0,0]\n",
    "for i in range(1,11):\n",
    "    for j in range(1,11):\n",
    "        # check if this is an excluded point\n",
    "        if np.any([np.all(np.array((i,j)==k),axis = 0) for k in exclude]):\n",
    "            continue\n",
    "        else:\n",
    "            if min_dist > dist(i,j):\n",
    "                min_dist = dist(i,j)\n",
    "                min_loc = (i,j)"
   ]
  },
  {
   "cell_type": "code",
   "execution_count": 70,
   "metadata": {
    "collapsed": false
   },
   "outputs": [
    {
     "data": {
      "text/plain": [
       "(3, 8)"
      ]
     },
     "execution_count": 70,
     "metadata": {},
     "output_type": "execute_result"
    }
   ],
   "source": [
    "min_loc "
   ]
  },
  {
   "cell_type": "code",
   "execution_count": 71,
   "metadata": {
    "collapsed": false
   },
   "outputs": [
    {
     "data": {
      "text/plain": [
       "22"
      ]
     },
     "execution_count": 71,
     "metadata": {},
     "output_type": "execute_result"
    }
   ],
   "source": [
    "min_dist"
   ]
  },
  {
   "cell_type": "markdown",
   "metadata": {},
   "source": [
    "we should camp at grid (H,3). We will have to travel a distance of 22 units daily."
   ]
  },
  {
   "cell_type": "markdown",
   "metadata": {},
   "source": [
    "So we really need a better model for this.  I posted on the math stackexchange to see about how to go about this.  An IP model would still need to compute all of the costs for each location, and we'd have 100 decision variables, and only select one.  It seems like it would be a strange model, and I wonder if there's another approach we can use."
   ]
  },
  {
   "cell_type": "code",
   "execution_count": null,
   "metadata": {
    "collapsed": true
   },
   "outputs": [],
   "source": []
  }
 ],
 "metadata": {
  "kernelspec": {
   "display_name": "Python 2",
   "language": "python",
   "name": "python2"
  },
  "language_info": {
   "codemirror_mode": {
    "name": "ipython",
    "version": 2
   },
   "file_extension": ".py",
   "mimetype": "text/x-python",
   "name": "python",
   "nbconvert_exporter": "python",
   "pygments_lexer": "ipython2",
   "version": "2.7.12"
  }
 },
 "nbformat": 4,
 "nbformat_minor": 2
}
