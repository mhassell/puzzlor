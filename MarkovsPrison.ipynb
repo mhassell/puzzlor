{
 "cells": [
  {
   "cell_type": "markdown",
   "metadata": {},
   "source": [
    "In the problem http://puzzlor.com/2008-08_MarkovsPrison.html, we are asked to find an escape route for a prisoner that minimizes their probability of being caught.  Since the guards move from room to room with given probabilities independent of their historical states (and because the word is in the title of the puzzle) we can use a Markov chain to determine the safest path for the prisoner to take.  The guards have been moving through the prison for years, which means that the Markov chain will be well-mixed, so we can make use of the long term transition probabilities that correspond to the left eigenvectors of the transition matrix.   Since there are 16 rooms, we have 16 possible states for each guard, and our transition matrices will be 16 x 16.  We can either find the left eigenvector for each matrix associated to the eigenvalue \\lambda = 1, or simply take a large power of each matrix to approximate the limiting distribution.  Once we have our limiting distributions, we need to find the path from 1 to 16 that constitutes the smallest probability of getting caught."
   ]
  },
  {
   "cell_type": "code",
   "execution_count": 106,
   "metadata": {
    "collapsed": true
   },
   "outputs": [],
   "source": [
    "import numpy as np\n",
    "np.set_printoptions(precision = 2)"
   ]
  },
  {
   "cell_type": "code",
   "execution_count": 107,
   "metadata": {
    "collapsed": false
   },
   "outputs": [],
   "source": [
    "# create the transition matrix for the first guard\n",
    "G1 = np.array([[.4, .2, 0, 0, .4, 0, 0, 0, 0, 0, 0, 0, 0, 0, 0, 0],\n",
    "               [.2, .2, .2, 0, 0,.4, 0, 0, 0, 0, 0, 0, 0, 0, 0, 0],\n",
    "               [0, .2, .2, .2, 0, 0,.4, 0, 0, 0, 0, 0, 0, 0, 0, 0],\n",
    "               [0, 0, .2, .4, 0, 0, 0, .4, 0, 0, 0, 0, 0, 0, 0, 0],\n",
    "               [.2, 0, 0, 0, .2, .2, 0, 0, .4, 0, 0, 0, 0, 0, 0, 0],\n",
    "               [0, .2, 0, 0, .2, 0, .2, 0, 0, .4, 0, 0, 0, 0, 0, 0],\n",
    "               [0, 0, .2, 0, 0, .2, 0, .2, 0, 0, .4, 0, 0, 0, 0, 0],\n",
    "               [0, 0, 0, .2, 0, 0, .2, .2, 0, 0, 0, .4, 0, 0, 0, 0],\n",
    "               [0, 0, 0, 0, .2, 0, 0, 0, .2, .2, 0, 0, .4, 0, 0, 0],\n",
    "               [0, 0, 0, 0, 0, .2, 0, 0, .2, 0, .2, 0, 0, .4, 0, 0],\n",
    "               [0, 0, 0, 0, 0, 0, .2, 0, 0, .2, 0, .2, 0, 0, .4, 0],\n",
    "               [0, 0, 0, 0, 0, 0, 0, .2, 0, 0, .2, .2, 0, 0, 0, .4],\n",
    "               [0, 0, 0, 0, 0, 0, 0, 0, .2, 0, 0, 0, .6, .2, 0, 0],\n",
    "               [0, 0, 0, 0, 0, 0, 0, 0, 0, .2, 0, 0, .2, .4, .2, 0],\n",
    "               [0, 0, 0, 0, 0, 0, 0, 0, 0, 0, .2, 0, 0, .2, .4, .2],\n",
    "               [0, 0, 0, 0, 0, 0, 0, 0, 0, 0, 0, .2, 0, 0, .2, .6]])"
   ]
  },
  {
   "cell_type": "code",
   "execution_count": 108,
   "metadata": {
    "collapsed": false
   },
   "outputs": [
    {
     "data": {
      "text/plain": [
       "(16, 16)"
      ]
     },
     "execution_count": 108,
     "metadata": {},
     "output_type": "execute_result"
    }
   ],
   "source": [
    "G1.shape"
   ]
  },
  {
   "cell_type": "code",
   "execution_count": 109,
   "metadata": {
    "collapsed": false
   },
   "outputs": [
    {
     "data": {
      "text/plain": [
       "array([ 1.,  1.,  1.,  1.,  1.,  1.,  1.,  1.,  1.,  1.,  1.,  1.,  1.,\n",
       "        1.,  1.,  1.])"
      ]
     },
     "execution_count": 109,
     "metadata": {},
     "output_type": "execute_result"
    }
   ],
   "source": [
    "# check that we are indeed a stochastic matrix\n",
    "np.sum(G1,axis=1)"
   ]
  },
  {
   "cell_type": "code",
   "execution_count": 110,
   "metadata": {
    "collapsed": true
   },
   "outputs": [],
   "source": [
    "G2 = np.array([[.6, .3, 0, 0, .1, 0, 0, 0, 0, 0, 0, 0, 0, 0, 0, 0],\n",
    "               [.2, .4, .3, 0, 0, .1, 0, 0, 0, 0, 0, 0, 0, 0, 0, 0],\n",
    "               [0, .2, .4, .3, 0, 0, .1, 0, 0, 0, 0, 0, 0, 0, 0, 0],\n",
    "               [0, 0, .2, .7, 0, 0, 0, .1, 0, 0, 0, 0, 0, 0, 0, 0],\n",
    "               [.4, 0, 0, 0, .2, .3, 0, 0, .1, 0, 0, 0, 0, 0, 0, 0],\n",
    "               [0, .4, 0, 0, .2, 0, .3, 0, 0, .1, 0, 0, 0, 0, 0, 0],\n",
    "               [0, 0, .4, 0, 0, .2, 0, .3, 0, 0, .1, 0, 0, 0, 0, 0],\n",
    "               [0, 0, 0, .4, 0, 0, .2, .3, 0, 0, 0, .1, 0, 0, 0, 0],\n",
    "               [0, 0, 0, 0, .4, 0, 0, 0, .2, .3, 0, 0, .1, 0, 0, 0],\n",
    "               [0, 0, 0, 0, 0, .4, 0, 0, .2, 0, .3, 0, 0, .1, 0, 0],\n",
    "               [0, 0, 0, 0, 0, 0, .4, 0, 0, .2, 0, .3, 0, 0, .1, 0],\n",
    "               [0, 0, 0, 0, 0, 0, 0, .4, 0, 0, .2, .3, 0, 0, 0, .1],\n",
    "               [0, 0, 0, 0, 0, 0, 0, 0, .4, 0, 0, 0, .3, .3, 0, 0],\n",
    "               [0, 0, 0, 0, 0, 0, 0, 0, 0, .4, 0, 0, .2, .1, .3, 0],\n",
    "               [0, 0, 0, 0, 0, 0, 0, 0, 0,  0, .4, 0, 0, .2, .1, .3],\n",
    "               [0, 0, 0, 0, 0, 0, 0, 0, 0, 0,  0, .4, 0, 0, .2, .4]])"
   ]
  },
  {
   "cell_type": "code",
   "execution_count": 111,
   "metadata": {
    "collapsed": false
   },
   "outputs": [
    {
     "data": {
      "text/plain": [
       "(16, 16)"
      ]
     },
     "execution_count": 111,
     "metadata": {},
     "output_type": "execute_result"
    }
   ],
   "source": [
    "G2.shape"
   ]
  },
  {
   "cell_type": "code",
   "execution_count": 112,
   "metadata": {
    "collapsed": false
   },
   "outputs": [
    {
     "data": {
      "text/plain": [
       "array([ 1.,  1.,  1.,  1.,  1.,  1.,  1.,  1.,  1.,  1.,  1.,  1.,  1.,\n",
       "        1.,  1.,  1.])"
      ]
     },
     "execution_count": 112,
     "metadata": {},
     "output_type": "execute_result"
    }
   ],
   "source": [
    "np.sum(G2,axis=1)"
   ]
  },
  {
   "cell_type": "code",
   "execution_count": 113,
   "metadata": {
    "collapsed": false
   },
   "outputs": [],
   "source": [
    "# we can approximate by taking a large power of the matrix\n",
    "G1_steady_state = np.linalg.matrix_power(G1,1000)"
   ]
  },
  {
   "cell_type": "code",
   "execution_count": 114,
   "metadata": {
    "collapsed": false
   },
   "outputs": [],
   "source": [
    "G2_steady_state = np.linalg.matrix_power(G2,1000)"
   ]
  },
  {
   "cell_type": "code",
   "execution_count": 115,
   "metadata": {
    "collapsed": false
   },
   "outputs": [
    {
     "data": {
      "text/plain": [
       "16.00000000000021"
      ]
     },
     "execution_count": 115,
     "metadata": {},
     "output_type": "execute_result"
    }
   ],
   "source": [
    "G2_steady_state.sum()"
   ]
  },
  {
   "cell_type": "markdown",
   "metadata": {},
   "source": [
    "now that we have our limiting distributions, we can create a mask using the original costs (to prevent us from hopping between non adjacent rooms) and use Dijkstra's method to find the shortest path from 1 to 16, with the edge costs being the probability of a guard being in the rooms"
   ]
  },
  {
   "cell_type": "code",
   "execution_count": null,
   "metadata": {
    "collapsed": true
   },
   "outputs": [],
   "source": []
  },
  {
   "cell_type": "code",
   "execution_count": null,
   "metadata": {
    "collapsed": true
   },
   "outputs": [],
   "source": []
  }
 ],
 "metadata": {
  "kernelspec": {
   "display_name": "Python 2",
   "language": "python",
   "name": "python2"
  },
  "language_info": {
   "codemirror_mode": {
    "name": "ipython",
    "version": 2
   },
   "file_extension": ".py",
   "mimetype": "text/x-python",
   "name": "python",
   "nbconvert_exporter": "python",
   "pygments_lexer": "ipython2",
   "version": "2.7.12"
  }
 },
 "nbformat": 4,
 "nbformat_minor": 2
}
