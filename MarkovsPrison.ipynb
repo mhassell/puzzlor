{
 "cells": [
  {
   "cell_type": "markdown",
   "metadata": {
    "deletable": true,
    "editable": true
   },
   "source": [
    "In the problem http://puzzlor.com/2008-08_MarkovsPrison.html, we are asked to find an escape route for a prisoner that minimizes their probability of being caught.  Since the guards move from room to room with given probabilities independent of their historical states (and because the word is in the title of the puzzle) we can use a Markov chain to determine the safest path for the prisoner to take.  The guards have been moving through the prison for years, which means that the Markov chain will be well-mixed, so we can make use of the long term transition probabilities that correspond to the left eigenvectors of the transition matrix.   Since there are 16 rooms, we have 16 possible states for each guard, and our transition matrices will be 16 x 16.  We can either find the left eigenvector for each matrix associated to the eigenvalue \\lambda = 1, or simply take a large power of each matrix to approximate the limiting distribution.  Once we have our limiting distributions, we need to find the path from 1 to 16 that constitutes the smallest probability of getting caught."
   ]
  },
  {
   "cell_type": "code",
   "execution_count": 49,
   "metadata": {
    "collapsed": true,
    "deletable": true,
    "editable": true
   },
   "outputs": [],
   "source": [
    "import numpy as np\n",
    "from numpy import matlib\n",
    "import scipy.sparse as sp\n",
    "np.set_printoptions(precision = 2)"
   ]
  },
  {
   "cell_type": "code",
   "execution_count": 3,
   "metadata": {
    "collapsed": false,
    "deletable": true,
    "editable": true
   },
   "outputs": [],
   "source": [
    "# create the transition matrix for the first guard\n",
    "G1 = np.array([[.4, .2, 0, 0, .4, 0, 0, 0, 0, 0, 0, 0, 0, 0, 0, 0],\n",
    "               [.2, .2, .2, 0, 0,.4, 0, 0, 0, 0, 0, 0, 0, 0, 0, 0],\n",
    "               [0, .2, .2, .2, 0, 0,.4, 0, 0, 0, 0, 0, 0, 0, 0, 0],\n",
    "               [0, 0, .2, .4, 0, 0, 0, .4, 0, 0, 0, 0, 0, 0, 0, 0],\n",
    "               [.2, 0, 0, 0, .2, .2, 0, 0, .4, 0, 0, 0, 0, 0, 0, 0],\n",
    "               [0, .2, 0, 0, .2, 0, .2, 0, 0, .4, 0, 0, 0, 0, 0, 0],\n",
    "               [0, 0, .2, 0, 0, .2, 0, .2, 0, 0, .4, 0, 0, 0, 0, 0],\n",
    "               [0, 0, 0, .2, 0, 0, .2, .2, 0, 0, 0, .4, 0, 0, 0, 0],\n",
    "               [0, 0, 0, 0, .2, 0, 0, 0, .2, .2, 0, 0, .4, 0, 0, 0],\n",
    "               [0, 0, 0, 0, 0, .2, 0, 0, .2, 0, .2, 0, 0, .4, 0, 0],\n",
    "               [0, 0, 0, 0, 0, 0, .2, 0, 0, .2, 0, .2, 0, 0, .4, 0],\n",
    "               [0, 0, 0, 0, 0, 0, 0, .2, 0, 0, .2, .2, 0, 0, 0, .4],\n",
    "               [0, 0, 0, 0, 0, 0, 0, 0, .2, 0, 0, 0, .6, .2, 0, 0],\n",
    "               [0, 0, 0, 0, 0, 0, 0, 0, 0, .2, 0, 0, .2, .4, .2, 0],\n",
    "               [0, 0, 0, 0, 0, 0, 0, 0, 0, 0, .2, 0, 0, .2, .4, .2],\n",
    "               [0, 0, 0, 0, 0, 0, 0, 0, 0, 0, 0, .2, 0, 0, .2, .6]])"
   ]
  },
  {
   "cell_type": "code",
   "execution_count": 4,
   "metadata": {
    "collapsed": false,
    "deletable": true,
    "editable": true
   },
   "outputs": [
    {
     "data": {
      "text/plain": [
       "(16, 16)"
      ]
     },
     "execution_count": 4,
     "metadata": {},
     "output_type": "execute_result"
    }
   ],
   "source": [
    "G1.shape"
   ]
  },
  {
   "cell_type": "code",
   "execution_count": 5,
   "metadata": {
    "collapsed": false,
    "deletable": true,
    "editable": true
   },
   "outputs": [
    {
     "data": {
      "text/plain": [
       "array([ 1.,  1.,  1.,  1.,  1.,  1.,  1.,  1.,  1.,  1.,  1.,  1.,  1.,\n",
       "        1.,  1.,  1.])"
      ]
     },
     "execution_count": 5,
     "metadata": {},
     "output_type": "execute_result"
    }
   ],
   "source": [
    "# check that we are indeed a stochastic matrix\n",
    "np.sum(G1,axis=1)"
   ]
  },
  {
   "cell_type": "code",
   "execution_count": 6,
   "metadata": {
    "collapsed": true,
    "deletable": true,
    "editable": true
   },
   "outputs": [],
   "source": [
    "G2 = np.array([[.6, .3, 0, 0, .1, 0, 0, 0, 0, 0, 0, 0, 0, 0, 0, 0],\n",
    "               [.2, .4, .3, 0, 0, .1, 0, 0, 0, 0, 0, 0, 0, 0, 0, 0],\n",
    "               [0, .2, .4, .3, 0, 0, .1, 0, 0, 0, 0, 0, 0, 0, 0, 0],\n",
    "               [0, 0, .2, .7, 0, 0, 0, .1, 0, 0, 0, 0, 0, 0, 0, 0],\n",
    "               [.4, 0, 0, 0, .2, .3, 0, 0, .1, 0, 0, 0, 0, 0, 0, 0],\n",
    "               [0, .4, 0, 0, .2, 0, .3, 0, 0, .1, 0, 0, 0, 0, 0, 0],\n",
    "               [0, 0, .4, 0, 0, .2, 0, .3, 0, 0, .1, 0, 0, 0, 0, 0],\n",
    "               [0, 0, 0, .4, 0, 0, .2, .3, 0, 0, 0, .1, 0, 0, 0, 0],\n",
    "               [0, 0, 0, 0, .4, 0, 0, 0, .2, .3, 0, 0, .1, 0, 0, 0],\n",
    "               [0, 0, 0, 0, 0, .4, 0, 0, .2, 0, .3, 0, 0, .1, 0, 0],\n",
    "               [0, 0, 0, 0, 0, 0, .4, 0, 0, .2, 0, .3, 0, 0, .1, 0],\n",
    "               [0, 0, 0, 0, 0, 0, 0, .4, 0, 0, .2, .3, 0, 0, 0, .1],\n",
    "               [0, 0, 0, 0, 0, 0, 0, 0, .4, 0, 0, 0, .3, .3, 0, 0],\n",
    "               [0, 0, 0, 0, 0, 0, 0, 0, 0, .4, 0, 0, .2, .1, .3, 0],\n",
    "               [0, 0, 0, 0, 0, 0, 0, 0, 0,  0, .4, 0, 0, .2, .1, .3],\n",
    "               [0, 0, 0, 0, 0, 0, 0, 0, 0, 0,  0, .4, 0, 0, .2, .4]])"
   ]
  },
  {
   "cell_type": "code",
   "execution_count": 8,
   "metadata": {
    "collapsed": false,
    "deletable": true,
    "editable": true
   },
   "outputs": [
    {
     "data": {
      "text/plain": [
       "array([ 1.,  1.,  1.,  1.,  1.,  1.,  1.,  1.,  1.,  1.,  1.,  1.,  1.,\n",
       "        1.,  1.,  1.])"
      ]
     },
     "execution_count": 8,
     "metadata": {},
     "output_type": "execute_result"
    }
   ],
   "source": [
    "np.sum(G2,axis=1)"
   ]
  },
  {
   "cell_type": "code",
   "execution_count": 30,
   "metadata": {
    "collapsed": false,
    "deletable": true,
    "editable": true
   },
   "outputs": [],
   "source": [
    "# we can approximate by taking a large power of the matrix\n",
    "G1_steady_state = np.linalg.matrix_power(G1,10000)[0,:]\n",
    "#print sum(G1_steady_state)\n"
   ]
  },
  {
   "cell_type": "code",
   "execution_count": 31,
   "metadata": {
    "collapsed": false,
    "deletable": true,
    "editable": true
   },
   "outputs": [],
   "source": [
    "G2_steady_state = np.linalg.matrix_power(G2,10000)[0,:]\n",
    "#print sum(G2_steady_state)"
   ]
  },
  {
   "cell_type": "markdown",
   "metadata": {
    "deletable": true,
    "editable": true
   },
   "source": [
    "now that we have our limiting distributions, we can create a mask using the original costs (to prevent us from hopping between non adjacent rooms) and use Dijkstra's method to find the shortest path from 1 to 16, with the edge costs being the probability of a guard being in the rooms"
   ]
  },
  {
   "cell_type": "code",
   "execution_count": 32,
   "metadata": {
    "collapsed": false,
    "deletable": true,
    "editable": true
   },
   "outputs": [
    {
     "name": "stdout",
     "output_type": "stream",
     "text": [
      "[ 0.11  0.15  0.22  0.32  0.06  0.07  0.08  0.11  0.07  0.07  0.08  0.08\n",
      "  0.13  0.14  0.14  0.14]\n"
     ]
    }
   ],
   "source": [
    "captureProbabilities = G1_steady_state+G2_steady_state-G1_steady_state*G2_steady_state\n",
    "print captureProbabilities"
   ]
  },
  {
   "cell_type": "code",
   "execution_count": 52,
   "metadata": {
    "collapsed": false
   },
   "outputs": [],
   "source": [
    "# use the transition matrix G1 as a mask to make the correct weight matrix for Dijkstra\n",
    "dijkstra_matrix = (G1!=0)*matlib.repmat(captureProbabilities,16,1)"
   ]
  },
  {
   "cell_type": "code",
   "execution_count": 54,
   "metadata": {
    "collapsed": false,
    "deletable": true,
    "editable": true
   },
   "outputs": [],
   "source": [
    "dist_matrix, pred = sp.csgraph.dijkstra(csgraph=dijkstra_matrix, return_predecessors = True)"
   ]
  },
  {
   "cell_type": "code",
   "execution_count": 55,
   "metadata": {
    "collapsed": false,
    "deletable": true,
    "editable": true
   },
   "outputs": [],
   "source": [
    "next_node = 15\n",
    "nodes = []\n",
    "while next_node != 0:\n",
    "    nodes.append(next_node)\n",
    "    next_node = pred[0][next_node]"
   ]
  },
  {
   "cell_type": "code",
   "execution_count": 56,
   "metadata": {
    "collapsed": false
   },
   "outputs": [
    {
     "name": "stdout",
     "output_type": "stream",
     "text": [
      "[[-9999     0     1     7     0     4     5     6     4     5     9    10\n",
      "      8     9    10    11]\n",
      " [    1 -9999     1     2     5     1     5     6     4     5     9    10\n",
      "      8     9    10    11]\n",
      " [    1     2 -9999     2     5     6     2     6     4     5     6    10\n",
      "      8     9    10    11]\n",
      " [    4     2     3 -9999     5     6     7     3     4     5     6     7\n",
      "      8     9    10    11]\n",
      " [    4     5     6     7 -9999     4     5     6     4     5     9    10\n",
      "      8     9    10    11]\n",
      " [    4     5     6     7     5 -9999     5     6     4     5     9    10\n",
      "      8     9    10    11]\n",
      " [    4     5     6     7     5     6 -9999     6     4     5     6    10\n",
      "      8     9    10    11]\n",
      " [    4     5     6     7     5     6     7 -9999     4     5     6     7\n",
      "      8     9    10    11]\n",
      " [    4     5     6     7     8     4     5     6 -9999     8     9    10\n",
      "      8     9    10    11]\n",
      " [    4     5     6     7     5     9     5     6     9 -9999     9    10\n",
      "      8     9    10    11]\n",
      " [    4     5     6     7     5     9    10     6     9    10 -9999    10\n",
      "      8     9    10    11]\n",
      " [    4     5     6     7     5     9    10    11     9    10    11 -9999\n",
      "      8     9    10    11]\n",
      " [    4     5     6     7     8     4     5     6    12     8     9    10\n",
      "  -9999    12    13    14]\n",
      " [    4     5     6     7     5     9     5     6     9    13     9    10\n",
      "     13 -9999    13    14]\n",
      " [    4     5     6     7     5     9    10     6     9    10    14    10\n",
      "     13    14 -9999    14]\n",
      " [    4     5     6     7     5     9    10    11     9    10    11    15\n",
      "     13    14    15 -9999]]\n"
     ]
    }
   ],
   "source": [
    "print pred"
   ]
  },
  {
   "cell_type": "code",
   "execution_count": 57,
   "metadata": {
    "collapsed": false,
    "deletable": true,
    "editable": true
   },
   "outputs": [],
   "source": [
    "nodes.reverse()"
   ]
  },
  {
   "cell_type": "code",
   "execution_count": 58,
   "metadata": {
    "collapsed": false,
    "deletable": true,
    "editable": true
   },
   "outputs": [
    {
     "name": "stdout",
     "output_type": "stream",
     "text": [
      "5\n",
      "6\n",
      "10\n",
      "11\n",
      "12\n",
      "16\n"
     ]
    }
   ],
   "source": [
    "for node in nodes:\n",
    "    print node+1"
   ]
  },
  {
   "cell_type": "code",
   "execution_count": null,
   "metadata": {
    "collapsed": true,
    "deletable": true,
    "editable": true
   },
   "outputs": [],
   "source": []
  }
 ],
 "metadata": {
  "kernelspec": {
   "display_name": "Python 2",
   "language": "python",
   "name": "python2"
  },
  "language_info": {
   "codemirror_mode": {
    "name": "ipython",
    "version": 2
   },
   "file_extension": ".py",
   "mimetype": "text/x-python",
   "name": "python",
   "nbconvert_exporter": "python",
   "pygments_lexer": "ipython2",
   "version": "2.7.12"
  }
 },
 "nbformat": 4,
 "nbformat_minor": 2
}
