{
 "cells": [
  {
   "cell_type": "markdown",
   "metadata": {
    "deletable": true,
    "editable": true
   },
   "source": [
    "The Puzzlor Payload Balance problem"
   ]
  },
  {
   "cell_type": "code",
   "execution_count": 133,
   "metadata": {
    "collapsed": true,
    "deletable": true,
    "editable": true
   },
   "outputs": [],
   "source": [
    "from pulp import *\n",
    "import numpy as np"
   ]
  },
  {
   "cell_type": "code",
   "execution_count": 134,
   "metadata": {
    "collapsed": true,
    "deletable": true,
    "editable": true
   },
   "outputs": [],
   "source": [
    "p = LpProblem('payload', LpMinimize)"
   ]
  },
  {
   "cell_type": "code",
   "execution_count": 135,
   "metadata": {
    "collapsed": false,
    "deletable": true,
    "editable": true
   },
   "outputs": [
    {
     "data": {
      "text/plain": [
       "60"
      ]
     },
     "execution_count": 135,
     "metadata": {},
     "output_type": "execute_result"
    }
   ],
   "source": [
    "# decision variables\n",
    "variables = []\n",
    "for i in range(1,16):\n",
    "    for j in 'ABCD':\n",
    "        x = LpVariable('x{}{}'.format(i,j), 0, 1, LpBinary)\n",
    "        variables.append(x)\n",
    "len(variables)"
   ]
  },
  {
   "cell_type": "code",
   "execution_count": 136,
   "metadata": {
    "collapsed": true,
    "deletable": true,
    "editable": true
   },
   "outputs": [],
   "source": [
    "# two dummy variables for the objective function\n",
    "t1 = LpVariable('t1', 0, 1000, LpContinuous)\n",
    "t2 = LpVariable('t2', 0, 1000, LpContinuous)"
   ]
  },
  {
   "cell_type": "code",
   "execution_count": 137,
   "metadata": {
    "collapsed": false,
    "deletable": true,
    "editable": true
   },
   "outputs": [],
   "source": [
    "# add the objective to the problem\n",
    "p += t1+t2"
   ]
  },
  {
   "cell_type": "code",
   "execution_count": 138,
   "metadata": {
    "collapsed": true,
    "deletable": true,
    "editable": true
   },
   "outputs": [],
   "source": [
    "# build the weight vector\n",
    "w = np.array([70, 90, 100, 110, 120, 130, 150, 180, 210, 220, 250, 280, 340, 350, 400])"
   ]
  },
  {
   "cell_type": "code",
   "execution_count": 139,
   "metadata": {
    "collapsed": false,
    "deletable": true,
    "editable": true
   },
   "outputs": [],
   "source": [
    "# add the constraints on t1 and t2 to replace the absolute values\n",
    "portA = []\n",
    "for j in range(0,60,4):\n",
    "    portA.append(variables[j])\n",
    "    \n",
    "portB = []\n",
    "for j in range(1,60,4):\n",
    "    portB.append(variables[j])\n",
    "    \n",
    "portC = []\n",
    "for j in range(2,60,4):\n",
    "    portC.append(variables[j])\n",
    "    \n",
    "portD = []\n",
    "for j in range(3,60,4):\n",
    "    portD.append(variables[j])"
   ]
  },
  {
   "cell_type": "code",
   "execution_count": 140,
   "metadata": {
    "collapsed": false,
    "deletable": true,
    "editable": true
   },
   "outputs": [],
   "source": [
    "# add the dummy constraints\n",
    "p+= t1==(lpDot(portA,w)-lpDot(portD,w))\n",
    "#p+= t1>= -(lpDot(portA,w)-lpDot(portD,w))\n",
    "p+= t2==(lpDot(portB,w)-lpDot(portC,w))\n",
    "#p+= t2>= -(lpDot(portB,w)-lpDot(portC,w))"
   ]
  },
  {
   "cell_type": "code",
   "execution_count": 141,
   "metadata": {
    "collapsed": true,
    "deletable": true,
    "editable": true
   },
   "outputs": [],
   "source": [
    "# weight limits in each cargo port\n",
    "p+=(lpDot(portA,w)<=1000)\n",
    "p+=(lpDot(portB,w)<=1000)\n",
    "p+=(lpDot(portC,w)<=1000)\n",
    "p+=(lpDot(portD,w)<=1000)"
   ]
  },
  {
   "cell_type": "code",
   "execution_count": 142,
   "metadata": {
    "collapsed": true,
    "deletable": true,
    "editable": true
   },
   "outputs": [],
   "source": [
    "# the requirement that we have at least three packages in each\n",
    "p+= lpSum(portA)>=3\n",
    "p+= lpSum(portB)>=3\n",
    "p+= lpSum(portC)>=3\n",
    "p+= lpSum(portD)>=3"
   ]
  },
  {
   "cell_type": "code",
   "execution_count": 143,
   "metadata": {
    "collapsed": false
   },
   "outputs": [],
   "source": [
    "# we also need that each package goes in only one port\n",
    "for j in range(0,60,4):\n",
    "    p+= variables[j]+variables[j+1]+variables[j+2]+variables[j+3] == 1"
   ]
  },
  {
   "cell_type": "code",
   "execution_count": 144,
   "metadata": {
    "collapsed": true,
    "deletable": true,
    "editable": true
   },
   "outputs": [],
   "source": [
    "status = p.solve()"
   ]
  },
  {
   "cell_type": "code",
   "execution_count": 145,
   "metadata": {
    "collapsed": false,
    "deletable": true,
    "editable": true
   },
   "outputs": [
    {
     "name": "stdout",
     "output_type": "stream",
     "text": [
      "Optimal\n"
     ]
    }
   ],
   "source": [
    "print LpStatus[status]"
   ]
  },
  {
   "cell_type": "code",
   "execution_count": 146,
   "metadata": {
    "collapsed": false,
    "deletable": true,
    "editable": true
   },
   "outputs": [
    {
     "name": "stdout",
     "output_type": "stream",
     "text": [
      "x1D\n",
      "x2D\n",
      "x3D\n",
      "x4A\n",
      "x5C\n",
      "x6B\n",
      "x7C\n",
      "x8A\n",
      "x9B\n",
      "x10B\n",
      "x11A\n",
      "x12D\n",
      "x13C\n",
      "x14C\n",
      "x15B\n"
     ]
    }
   ],
   "source": [
    "for j in variables:\n",
    "    if j.value():\n",
    "        print j"
   ]
  },
  {
   "cell_type": "code",
   "execution_count": 147,
   "metadata": {
    "collapsed": false,
    "deletable": true,
    "editable": true
   },
   "outputs": [
    {
     "name": "stdout",
     "output_type": "stream",
     "text": [
      "0.0\n"
     ]
    }
   ],
   "source": [
    "# cool! we've minimized the function we were hoping for\n",
    "print value(p.objective)"
   ]
  },
  {
   "cell_type": "code",
   "execution_count": 148,
   "metadata": {
    "collapsed": false,
    "deletable": true,
    "editable": true
   },
   "outputs": [],
   "source": [
    "# now to answer the question of the weights of each storage bay\n",
    "weightA = 0\n",
    "for j in range(0,len(portA)):\n",
    "     weightA = weightA + (portA[j].value())*w[j]\n",
    "\n",
    "weightB = 0\n",
    "for j in range(0,len(portB)):\n",
    "     weightB = weightB + (portB[j].value())*w[j]\n",
    "        \n",
    "weightC = 0\n",
    "for j in range(0,len(portC)):\n",
    "     weightC = weightC + (portC[j].value())*w[j]\n",
    "        \n",
    "weightD = 0\n",
    "for j in range(0,len(portD)):\n",
    "     weightD = weightD + (portD[j].value())*w[j]"
   ]
  },
  {
   "cell_type": "code",
   "execution_count": 149,
   "metadata": {
    "collapsed": false
   },
   "outputs": [
    {
     "name": "stdout",
     "output_type": "stream",
     "text": [
      "540.0\n",
      "960.0\n",
      "960.0\n",
      "540.0\n"
     ]
    }
   ],
   "source": [
    "print weightA\n",
    "print weightB\n",
    "print weightC\n",
    "print weightD"
   ]
  },
  {
   "cell_type": "code",
   "execution_count": 150,
   "metadata": {
    "collapsed": false
   },
   "outputs": [
    {
     "name": "stdout",
     "output_type": "stream",
     "text": [
      "540.0\n"
     ]
    }
   ],
   "source": [
    "print lpDot(portA,w).value()"
   ]
  },
  {
   "cell_type": "code",
   "execution_count": 151,
   "metadata": {
    "collapsed": false
   },
   "outputs": [
    {
     "name": "stdout",
     "output_type": "stream",
     "text": [
      "960.0\n"
     ]
    }
   ],
   "source": [
    "print lpDot(portB,w).value()"
   ]
  },
  {
   "cell_type": "code",
   "execution_count": 152,
   "metadata": {
    "collapsed": false
   },
   "outputs": [
    {
     "name": "stdout",
     "output_type": "stream",
     "text": [
      "960.0\n"
     ]
    }
   ],
   "source": [
    "print lpDot(portC,w).value()"
   ]
  },
  {
   "cell_type": "code",
   "execution_count": 153,
   "metadata": {
    "collapsed": false
   },
   "outputs": [
    {
     "data": {
      "text/plain": [
       "0.0"
      ]
     },
     "execution_count": 153,
     "metadata": {},
     "output_type": "execute_result"
    }
   ],
   "source": [
    "t1.value()"
   ]
  },
  {
   "cell_type": "code",
   "execution_count": null,
   "metadata": {
    "collapsed": true
   },
   "outputs": [],
   "source": []
  }
 ],
 "metadata": {
  "kernelspec": {
   "display_name": "Python 2",
   "language": "python",
   "name": "python2"
  },
  "language_info": {
   "codemirror_mode": {
    "name": "ipython",
    "version": 2
   },
   "file_extension": ".py",
   "mimetype": "text/x-python",
   "name": "python",
   "nbconvert_exporter": "python",
   "pygments_lexer": "ipython2",
   "version": "2.7.12"
  }
 },
 "nbformat": 4,
 "nbformat_minor": 2
}
