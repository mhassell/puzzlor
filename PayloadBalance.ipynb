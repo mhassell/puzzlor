{
 "cells": [
  {
   "cell_type": "markdown",
   "metadata": {
    "deletable": true,
    "editable": true
   },
   "source": [
    "The Puzzlor Payload Balance problem"
   ]
  },
  {
   "cell_type": "code",
   "execution_count": 1,
   "metadata": {
    "collapsed": true,
    "deletable": true,
    "editable": true
   },
   "outputs": [],
   "source": [
    "from pulp import *\n",
    "import numpy as np"
   ]
  },
  {
   "cell_type": "code",
   "execution_count": 2,
   "metadata": {
    "collapsed": true,
    "deletable": true,
    "editable": true
   },
   "outputs": [],
   "source": [
    "p = LpProblem('payload', LpMinimize)"
   ]
  },
  {
   "cell_type": "code",
   "execution_count": 3,
   "metadata": {
    "collapsed": false,
    "deletable": true,
    "editable": true
   },
   "outputs": [
    {
     "data": {
      "text/plain": [
       "60"
      ]
     },
     "execution_count": 3,
     "metadata": {},
     "output_type": "execute_result"
    }
   ],
   "source": [
    "# decision variables\n",
    "variables = []\n",
    "for i in range(1,16):\n",
    "    for j in 'ABCD':\n",
    "        x = LpVariable('x{}{}'.format(i,j), 0, 1, LpBinary)\n",
    "        variables.append(x)\n",
    "len(variables)"
   ]
  },
  {
   "cell_type": "code",
   "execution_count": 4,
   "metadata": {
    "collapsed": true,
    "deletable": true,
    "editable": true
   },
   "outputs": [],
   "source": [
    "# two dummy variables for the objective function\n",
    "t1 = LpVariable('t1', 0, 1000, LpContinuous)\n",
    "t2 = LpVariable('t2', 0, 1000, LpContinuous)"
   ]
  },
  {
   "cell_type": "code",
   "execution_count": 5,
   "metadata": {
    "collapsed": true,
    "deletable": true,
    "editable": true
   },
   "outputs": [],
   "source": [
    "# add the objective to the problem\n",
    "p += t1+t2"
   ]
  },
  {
   "cell_type": "code",
   "execution_count": 6,
   "metadata": {
    "collapsed": true,
    "deletable": true,
    "editable": true
   },
   "outputs": [],
   "source": [
    "# build the weight vector\n",
    "w = np.array([70, 90, 100, 110, 120, 130, 150, 180, 210, 220, 250, 280, 340, 350, 400])"
   ]
  },
  {
   "cell_type": "code",
   "execution_count": 7,
   "metadata": {
    "collapsed": false,
    "deletable": true,
    "editable": true
   },
   "outputs": [],
   "source": [
    "# add the constraints on t1 and t2 to replace the absolute values\n",
    "portA = []\n",
    "for j in range(0,60,4):\n",
    "    portA.append(variables[j])\n",
    "    \n",
    "portB = []\n",
    "for j in range(1,60,4):\n",
    "    portB.append(variables[j])\n",
    "    \n",
    "portC = []\n",
    "for j in range(2,60,4):\n",
    "    portC.append(variables[j])\n",
    "    \n",
    "portD = []\n",
    "for j in range(3,60,4):\n",
    "    portD.append(variables[j])"
   ]
  },
  {
   "cell_type": "code",
   "execution_count": 13,
   "metadata": {
    "collapsed": false,
    "deletable": true,
    "editable": true
   },
   "outputs": [],
   "source": [
    "# add the dummy constraints\n",
    "p+= t1<=(lpDot(portA,w)-lpDot(portD,w))\n",
    "p+= t1>= -(lpDot(portA,w)-lpDot(portD,w))\n",
    "p+= t2<=(lpDot(portB,w)-lpDot(portB,w))\n",
    "p+= t2>= -(lpDot(portB,w)-lpDot(portB,w))"
   ]
  },
  {
   "cell_type": "code",
   "execution_count": 14,
   "metadata": {
    "collapsed": true,
    "deletable": true,
    "editable": true
   },
   "outputs": [],
   "source": [
    "# weight limits in each cargo port\n",
    "p+=(lpDot(portA,w)<=1000)\n",
    "p+=(lpDot(portB,w)<=1000)\n",
    "p+=(lpDot(portC,w)<=1000)\n",
    "p+=(lpDot(portD,w)<=1000)"
   ]
  },
  {
   "cell_type": "code",
   "execution_count": 15,
   "metadata": {
    "collapsed": true
   },
   "outputs": [],
   "source": [
    "# and finally the requirement that we have at least three packages in each\n",
    "p+= lpSum(portA)>=3\n",
    "p+= lpSum(portB)>=3\n",
    "p+= lpSum(portC)>=3\n",
    "p+= lpSum(portD)>=3"
   ]
  },
  {
   "cell_type": "code",
   "execution_count": 16,
   "metadata": {
    "collapsed": true
   },
   "outputs": [],
   "source": [
    "status = p.solve()"
   ]
  },
  {
   "cell_type": "code",
   "execution_count": 17,
   "metadata": {
    "collapsed": false
   },
   "outputs": [
    {
     "name": "stdout",
     "output_type": "stream",
     "text": [
      "Optimal\n"
     ]
    }
   ],
   "source": [
    "print LpStatus[status]"
   ]
  },
  {
   "cell_type": "code",
   "execution_count": 18,
   "metadata": {
    "collapsed": false
   },
   "outputs": [
    {
     "name": "stdout",
     "output_type": "stream",
     "text": [
      "x1A\n",
      "x1C\n",
      "x3C\n",
      "x4C\n",
      "x5B\n",
      "x8B\n",
      "x8D\n",
      "x9A\n",
      "x9D\n",
      "x10A\n",
      "x10D\n",
      "x12B\n",
      "x15A\n"
     ]
    }
   ],
   "source": [
    "for j in variables:\n",
    "    if j.value():\n",
    "        print j"
   ]
  },
  {
   "cell_type": "code",
   "execution_count": 19,
   "metadata": {
    "collapsed": false
   },
   "outputs": [
    {
     "name": "stdout",
     "output_type": "stream",
     "text": [
      "0.0\n"
     ]
    }
   ],
   "source": [
    "print value(p.objective)"
   ]
  },
  {
   "cell_type": "code",
   "execution_count": null,
   "metadata": {
    "collapsed": true
   },
   "outputs": [],
   "source": []
  }
 ],
 "metadata": {
  "kernelspec": {
   "display_name": "Python 2",
   "language": "python",
   "name": "python2"
  },
  "language_info": {
   "codemirror_mode": {
    "name": "ipython",
    "version": 2
   },
   "file_extension": ".py",
   "mimetype": "text/x-python",
   "name": "python",
   "nbconvert_exporter": "python",
   "pygments_lexer": "ipython2",
   "version": "2.7.12"
  }
 },
 "nbformat": 4,
 "nbformat_minor": 2
}
