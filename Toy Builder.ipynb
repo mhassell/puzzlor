{
 "cells": [
  {
   "cell_type": "markdown",
   "metadata": {},
   "source": [
    "http://puzzlor.com/2016-02_ToyBuilder.html"
   ]
  },
  {
   "cell_type": "markdown",
   "metadata": {},
   "source": [
    "The solution to this problem is in two steps: first, we formulate a standard IP model for the problem to determine how many of each piece we will use to maximize our profits.  After completing this, we only have a pile of pieces we use and pieces we don't (plus the profit we hope to achieve).  However, we don't know how to allocate the pieces to build the various toys.  For this part, we construct a simple linear system with the array A_{ij} = number of pieces toy i requires of type j.  Our right hand side is the number of pieces found in the first step.  Let's go!"
   ]
  },
  {
   "cell_type": "code",
   "execution_count": 21,
   "metadata": {
    "collapsed": true
   },
   "outputs": [],
   "source": [
    "from pulp import *\n",
    "import numpy as np"
   ]
  },
  {
   "cell_type": "code",
   "execution_count": 22,
   "metadata": {
    "collapsed": false
   },
   "outputs": [],
   "source": [
    "# here's the problem for the pieces \n",
    "p = LpProblem('pieces',LpMaximize)\n",
    "\n",
    "# and our decision variables (we implicitly add the constraints on our inventory)\n",
    "red = LpVariable('red', lowBound = 0, upBound = 30, cat='Integer')\n",
    "green = LpVariable('green', lowBound = 0, upBound = 29, cat='Integer')\n",
    "blue = LpVariable('blue', lowBound = 0, upBound = 25, cat='Integer')"
   ]
  },
  {
   "cell_type": "code",
   "execution_count": 23,
   "metadata": {
    "collapsed": false
   },
   "outputs": [],
   "source": [
    "# here's the objective function\n",
    "profit = 7*(3*blue + 2*green + 1*red) + 8*(2*blue + 4*green + 1*red) + 5*(1*blue + 2*green + 4*red)\n",
    "p += profit"
   ]
  },
  {
   "cell_type": "code",
   "execution_count": 24,
   "metadata": {
    "collapsed": false
   },
   "outputs": [
    {
     "name": "stdout",
     "output_type": "stream",
     "text": [
      "Optimal\n"
     ]
    }
   ],
   "source": [
    "# solve and check it is optimal\n",
    "status = p.solve()\n",
    "print LpStatus[status]"
   ]
  },
  {
   "cell_type": "code",
   "execution_count": 25,
   "metadata": {
    "collapsed": false
   },
   "outputs": [
    {
     "name": "stdout",
     "output_type": "stream",
     "text": [
      "3724.0\n"
     ]
    }
   ],
   "source": [
    "# check our profit\n",
    "print value(p.objective)"
   ]
  },
  {
   "cell_type": "code",
   "execution_count": 26,
   "metadata": {
    "collapsed": false
   },
   "outputs": [
    {
     "name": "stdout",
     "output_type": "stream",
     "text": [
      "30.0\n",
      "29.0\n",
      "25.0\n"
     ]
    }
   ],
   "source": [
    "# get the values\n",
    "print red.varValue\n",
    "print green.varValue\n",
    "print blue.varValue"
   ]
  },
  {
   "cell_type": "code",
   "execution_count": 27,
   "metadata": {
    "collapsed": false
   },
   "outputs": [
    {
     "name": "stdout",
     "output_type": "stream",
     "text": [
      "[ 7.  3.  3.]\n"
     ]
    }
   ],
   "source": [
    "A = np.array([[3,2,1], [2,4,1],[1,2,4]])\n",
    "rhs = np.array([30,29,25])\n",
    "nums = np.linalg.solve(A,rhs)\n",
    "print nums"
   ]
  },
  {
   "cell_type": "code",
   "execution_count": null,
   "metadata": {
    "collapsed": true
   },
   "outputs": [],
   "source": []
  }
 ],
 "metadata": {
  "kernelspec": {
   "display_name": "Python 2",
   "language": "python",
   "name": "python2"
  },
  "language_info": {
   "codemirror_mode": {
    "name": "ipython",
    "version": 2
   },
   "file_extension": ".py",
   "mimetype": "text/x-python",
   "name": "python",
   "nbconvert_exporter": "python",
   "pygments_lexer": "ipython2",
   "version": "2.7.12"
  }
 },
 "nbformat": 4,
 "nbformat_minor": 2
}
