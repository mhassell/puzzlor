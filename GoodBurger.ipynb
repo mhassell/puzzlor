{
 "cells": [
  {
   "cell_type": "markdown",
   "metadata": {
    "deletable": true,
    "editable": true
   },
   "source": [
    "http://puzzlor.com/2014-08_GoodBurger.html"
   ]
  },
  {
   "cell_type": "code",
   "execution_count": 42,
   "metadata": {
    "collapsed": true,
    "deletable": true,
    "editable": true
   },
   "outputs": [],
   "source": [
    "from pulp import *"
   ]
  },
  {
   "cell_type": "code",
   "execution_count": 43,
   "metadata": {
    "collapsed": true,
    "deletable": true,
    "editable": true
   },
   "outputs": [],
   "source": [
    "p = LpProblem('burger',LpMaximize)"
   ]
  },
  {
   "cell_type": "code",
   "execution_count": 44,
   "metadata": {
    "collapsed": true,
    "deletable": true,
    "editable": true
   },
   "outputs": [],
   "source": [
    "# set up my decision variables\n",
    "patty = LpVariable('patty', lowBound = 1, upBound = 5, cat='Integer')\n",
    "bun = LpVariable('bun', lowBound = 1, upBound = 5, cat='Integer')\n",
    "onion = LpVariable('onion', lowBound = 1, upBound = 5, cat='Integer')\n",
    "cheese = LpVariable('cheese', lowBound = 1, upBound = 5, cat='Integer')\n",
    "pickles = LpVariable('pickles', lowBound = 1, upBound = 5, cat='Integer')\n",
    "lettuce = LpVariable('lettuce', lowBound = 1, upBound = 5, cat='Integer')\n",
    "tomato = LpVariable('tomato', lowBound = 1, upBound = 5, cat='Integer')\n",
    "ketchup = LpVariable('ketchup', lowBound = 1, upBound = 5, cat='Integer')"
   ]
  },
  {
   "cell_type": "code",
   "execution_count": 45,
   "metadata": {
    "collapsed": true
   },
   "outputs": [],
   "source": [
    "# constraint on the sodium levels\n",
    "p+= (50*patty + 330*bun + 310*cheese + 1*onion + 260*pickles + 3*lettuce + 160*ketchup + 3*tomato <= 3000) "
   ]
  },
  {
   "cell_type": "code",
   "execution_count": 46,
   "metadata": {
    "collapsed": true
   },
   "outputs": [],
   "source": [
    "# constraint on the fat\n",
    "p+= (17*patty + 9*bun + 6*cheese + 2*onion <=150)"
   ]
  },
  {
   "cell_type": "code",
   "execution_count": 47,
   "metadata": {
    "collapsed": false
   },
   "outputs": [],
   "source": [
    "# and calorie constraint\n",
    "p+= (220*patty + 260*bun + 70*cheese + 10*onion + 5*pickles + 4*lettuce + 20*ketchup + 9*tomato <=3000)"
   ]
  },
  {
   "cell_type": "code",
   "execution_count": 48,
   "metadata": {
    "collapsed": true
   },
   "outputs": [],
   "source": [
    "# here we have the taste constraints\n",
    "p+= (ketchup == lettuce)\n",
    "p+= (pickles == tomato)"
   ]
  },
  {
   "cell_type": "code",
   "execution_count": 49,
   "metadata": {
    "collapsed": true
   },
   "outputs": [],
   "source": [
    "# we seek to maximize the cost, so add that (this will be in dollars)\n",
    "p+= (0.25*patty + .15*bun + .1*cheese + .09*onion + .03*pickles + .04*lettuce + .02*ketchup + .04*tomato)"
   ]
  },
  {
   "cell_type": "code",
   "execution_count": 50,
   "metadata": {
    "collapsed": false
   },
   "outputs": [
    {
     "name": "stdout",
     "output_type": "stream",
     "text": [
      "Optimal\n"
     ]
    }
   ],
   "source": [
    "status = p.solve()\n",
    "print LpStatus[status]"
   ]
  },
  {
   "cell_type": "code",
   "execution_count": 51,
   "metadata": {
    "collapsed": false
   },
   "outputs": [
    {
     "name": "stdout",
     "output_type": "stream",
     "text": [
      "bun 5.0\n",
      "cheese 1.0\n",
      "ketchup 3.0\n",
      "lettuce 3.0\n",
      "onion 5.0\n",
      "patty 5.0\n",
      "pickles 1.0\n",
      "tomato 1.0\n"
     ]
    }
   ],
   "source": [
    "for variable in p.variables():\n",
    "    print variable, variable.value()"
   ]
  },
  {
   "cell_type": "code",
   "execution_count": 52,
   "metadata": {
    "collapsed": false
   },
   "outputs": [
    {
     "data": {
      "text/plain": [
       "2.8"
      ]
     },
     "execution_count": 52,
     "metadata": {},
     "output_type": "execute_result"
    }
   ],
   "source": [
    "p.objective.value()"
   ]
  },
  {
   "cell_type": "code",
   "execution_count": null,
   "metadata": {
    "collapsed": true
   },
   "outputs": [],
   "source": []
  }
 ],
 "metadata": {
  "kernelspec": {
   "display_name": "Python 2",
   "language": "python",
   "name": "python2"
  },
  "language_info": {
   "codemirror_mode": {
    "name": "ipython",
    "version": 2
   },
   "file_extension": ".py",
   "mimetype": "text/x-python",
   "name": "python",
   "nbconvert_exporter": "python",
   "pygments_lexer": "ipython2",
   "version": "2.7.12"
  }
 },
 "nbformat": 4,
 "nbformat_minor": 2
}
